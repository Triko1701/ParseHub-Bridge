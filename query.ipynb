{
 "cells": [
  {
   "cell_type": "code",
   "execution_count": null,
   "metadata": {},
   "outputs": [],
   "source": [
    "# \tchannel_title\toccurence\n",
    "# 0\t🍃Nomad Softwork🍵\t36\n",
    "# 1\tAI VTuber Dev\t12\n",
    "# 2\tヨキアリYokiari\t10\n",
    "# 3\tきらきら山\t9\n",
    "# 4\tメルア・クルー / Merua Crew\t9\n",
    "# 5\tNVYUS\t8\n",
    "# 6\tblob\t8\n",
    "# 7\tNaiLA ch. [Vtuber AI Indonesia]\t8\n",
    "# 8\tGingerhouse\t7\n",
    "# 9\tAdmir AMT\t6\n",
    "# 10\t兜巴_kabutotomoe\t6\n",
    "# 11\tOlivio Sarikas\t5\n",
    "# 12\thu-po\t5\n",
    "# 13\tyuu-game Executive\t5\n",
    "# 14\tDee Does A.I\t5\n",
    "# 15\tPaul-Arthur-Feeling-Et-Ace\t4\n",
    "# 16\tいーえるP / ボカロP・DTM系VTuber\t4\n",
    "# 17\tうなぎの遊び場\t4\n",
    "# 18\tラムネラボチャンネル\t4\n",
    "# 19\tBNP Paribas Produits de Bourse\t4\n",
    "# 20\tJohn L\t4\n",
    "# 21\tMoonFoxBZH\t4\n",
    "# 22\tTiffany and Teddy\t3\n",
    "# 23\tLxMLS Lisbon Machine Learning School\t3\n",
    "# 24\tBigCommerce Developers\t3\n",
    "# 25\tベルファ-Belpha- Ch.\t3\n",
    "# 26\tZATYの遊び場\t3\n",
    "# 27\tらくらく\t3\n",
    "# 28\tPronto AI\t3\n",
    "# 29\tNewArtSchool\t3\n",
    "# 30\tefoxxfiles\t3\n",
    "# 31\t360DigiTMG\t3\n",
    "# 32\tRusty Dog\t3\n",
    "# 33\tPorQ?On A.I\t3\n",
    "# 34\tHappy_in_happy\t2\n",
    "# 35\t인공지능팩토리(AIFactory)\t2\n",
    "# 36\tCoollsmalls AI Artists And Digital Artists 4K ...\t2\n",
    "# 37\tウリュウ・イオノ Ch\t2\n",
    "# 38\tPine Research Instrumentation, Inc.\t2\n",
    "# 39\tNSF Center for Synthetic Organic Electrochemistry\t2\n",
    "# 40\tمبادرة العطاء الرقمي\t2\n",
    "# 41\tRun Diffusion\t2\n",
    "# 42\tAI人形使い\t2\n",
    "# 43\t村野カフェ\t2\n",
    "# 44\tAakash BYJU'S NEET\t2\n",
    "# 45\tAWS User Group India\t2\n",
    "# 46\tlablab ai\t2\n",
    "# 47\tTFM (Télé Futurs Medias)\t2\n",
    "# 48\tMatthew Parker\t2\n",
    "# 49\tArch_AI_3D\t2\n",
    "# 50\tImajTitan\t2\n",
    "# 51\tRadio Pyramide FM TV\t2\n",
    "# 52\tCan Sungur ve Yakın Evren\t2\n",
    "# 53\tseekVIDEO\t2\n",
    "# 54\tVinAI Research\t2\n",
    "# 55\tGreg Bronevetsky\t2\n",
    "# 56\tBenzinga\t2\n",
    "# 57\tAIgeneratingart\t2\n",
    "# 58\tWeb3 Working Group\t2\n",
    "# 59\tLa madriguera económica\t2"
   ]
  },
  {
   "cell_type": "code",
   "execution_count": null,
   "metadata": {},
   "outputs": [],
   "source": [
    "# \tchannel_title\toccurence\n",
    "# 0\tOlivio Sarikas\t39\n",
    "# 1\tAmaxiy\t15\n",
    "# 2\tAitrepreneur\t15\n",
    "# 3\tИгорь Мратов\t15\n",
    "# 4\tcamenduru\t15\n",
    "# 5\tいーえるP / ボカロP・DTM系VTuber\t14\n",
    "# 6\tAI Art Alchemy\t14\n",
    "# 7\tJohn L\t13\n",
    "# 8\tИгорь Happyboy\t13\n",
    "# 9\thu-po\t13\n",
    "# 10\tASMR Psychetruth\t12\n",
    "# 11\tDigitalFUTURES world\t9\n",
    "# 12\tGalaxyKnight859\t7\n",
    "# 13\tKseniaHarlequin\t7\n",
    "# 14\tYaes Tubo\t6\n",
    "# 15\tハラセンちゃん寝る\t6\n",
    "# 16\tきらきら山\t6\n",
    "# 17\tUnicornis\t6\n",
    "# 18\tSebastian Kamph\t6\n",
    "# 19\tSECourses\t5\n",
    "# 20\t🍃Nova🍵\t5\n",
    "# 21\tyuu-game\t5\n",
    "# 22\tCan Sungur ve Yakın Evren\t5\n",
    "# 23\tШпунтов Георгий\t5\n",
    "# 24\tM觀點\t5\n",
    "# 25\tAre We Still On Earth?\t5\n",
    "# 26\tPorQ?On A.I\t5\n",
    "# 27\tТеплица социальных технологий\t5\n",
    "# 28\tPatricio Fernandez\t5\n",
    "# 29\tCraft Computing\t5\n",
    "# 30\tNVYUS\t5\n",
    "# 31\tefoxxfiles\t5\n",
    "# 32\tArch_AI_3D\t5\n",
    "# 33\t【新人VTuber】椎半音ちゃんねる【開発系VTuber】\t4\n",
    "# 34\tXavier Mitjana\t4\n",
    "# 35\tGuiVtuber\t4\n",
    "# 36\tAlicia Shadowbaker\t4\n",
    "# 37\tSteven Zapata Art\t4\n",
    "# 38\tBNP Paribas Produits de Bourse\t4\n",
    "# 39\tDee Does A.I\t4\n",
    "# 40\tChai Time Data Science\t4\n",
    "# 41\tCookie STORY 【COS】\t3\n",
    "# 42\tBYJU'S - Class 9 & 10\t3\n",
    "# 43\tZATYの遊び場\t3\n",
    "# 44\tFriend of Ai\t3\n",
    "# 45\tArtificial Intelligence Society\t3\n",
    "# 46\tMatt Dilworth\t3\n",
    "# 47\tSen Tv Officiel [DMEDIA]\t3\n",
    "# 48\tガチャに愛された漢おじゃ\t3\n",
    "# 49\tウリュウ・イオノ Ch\t3\n",
    "# 50\t🍃Nomad Softwork🍵\t3\n",
    "# 51\tAI VTuber Dev\t3\n",
    "# 52\tDissolute Void\t3\n",
    "# 53\tStanford MLSys Seminars\t3\n",
    "# 54\tDeepLearningAI\t3\n",
    "# 55\tGamer a la deriva\t3\n",
    "# 56\tGPT Time\t3\n",
    "# 57\tMatt Wolfe\t3\n",
    "# 58\tXpucT\t3\n",
    "# 59\tAIgeneratingart\t3"
   ]
  },
  {
   "cell_type": "code",
   "execution_count": null,
   "metadata": {},
   "outputs": [],
   "source": [
    "# Olivio Sarikas\t17\n",
    "# 1\tAI Art Alchemy\t14\n",
    "# 2\tИгорь Мратов\t14\n",
    "# 3\tИгорь Happyboy\t13\n",
    "# 4\tAmaxiy\t13\n",
    "# 5\tcamenduru\t12\n",
    "# 6\tASMR Psychetruth\t10\n",
    "# 7\t🍃Nomad Softwork🍵\t9\n",
    "# 8\tKseniaHarlequin\t7\n",
    "# 9\thu-po\t7\n",
    "# 10\tGalaxyKnight859\t7\n",
    "# 11\tefoxxfiles\t7\n",
    "# 12\tハラセンちゃん寝る\t6\n",
    "# 13\tいーえるP / ボカロP・DTM系VTuber\t6\n",
    "# 14\tYaes Tubo\t6\n",
    "# 15\tPatricio Fernandez\t5\n",
    "# 16\tAre We Still On Earth?\t5\n",
    "# 17\tyuu-game Executive\t5\n",
    "# 18\tArch_AI_3D\t5\n",
    "# 19\tТеплица социальных технологий\t5\n",
    "# 20\tШпунтов Георгий\t5\n",
    "# 21\tDigitalFUTURES world\t5\n",
    "# 22\tCan Sungur ve Yakın Evren\t4\n",
    "# 23\tUnicornis\t4\n",
    "# 24\tJohn L\t4\n",
    "# 25\tGuiVtuber\t4\n",
    "# 26\tPorQ?On A.I\t4\n",
    "# 27\t【新人VTuber】椎半音ちゃんねる【開発系VTuber】\t4\n",
    "# 28\tRob Mulla\t3\n",
    "# 29\tガチャに愛された漢おじゃ\t3\n",
    "# 30\tGamer a la deriva\t3\n",
    "# 31\tStanford MLSys Seminars\t3\n",
    "# 32\tXavier Mitjana\t3\n",
    "# 33\tAIgeneratingart\t3\n",
    "# 34\tGPT Time\t3\n",
    "# 35\tКароче какбы\t3\n",
    "# 36\tMatt Dilworth\t3\n",
    "# 37\tVhigh!\t3\n",
    "# 38\tBigCommerce Developers\t3\n",
    "# 39\tDee Does A.I\t3\n",
    "# 40\tArtificial Intelligence Society\t3\n",
    "# 41\tPAD : PC Watch & AKIBA PC Hotline! plus DVPR\t3\n",
    "# 42\tSteven Zapata Art\t3\n",
    "# 43\tDissolute Void\t3\n",
    "# 44\tAlicia Shadowbaker\t3\n",
    "# 45\tMert Cobanov\t2\n",
    "# 46\tGroove․cm\t2\n",
    "# 47\t30J / Thirty Jacks\t2\n",
    "# 48\t八岐やくも【お絵描きVtuber~!!】\t2\n",
    "# 49\tみすたーかにかま\t2\n",
    "# 50\tなーせ Channel\t2\n",
    "# 51\tAINikita\t2\n",
    "# 52\tAiMind\t2\n",
    "# 53\tWorld Wide Basement Vibes\t2\n",
    "# 54\tWesley Paulino Coelho\t2\n",
    "# 55\tCraft Computing\t2\n",
    "# 56\tDeepLearningAI\t2\n",
    "# 57\t망테크트리\t2\n",
    "# 58\tM觀點\t2\n",
    "# 59\tLallaVision+\t2"
   ]
  },
  {
   "cell_type": "code",
   "execution_count": null,
   "metadata": {},
   "outputs": [],
   "source": [
    "\n",
    "# channel_title\toccurence\n",
    "# 0\tOlivio Sarikas\t25\n",
    "# 1\tいーえるP / ボカロP・DTM系VTuber\t16\n",
    "# 2\tcamenduru\t15                                      111111111111111\n",
    "# 3\tAmaxiy\t15\n",
    "# 4\tИгорь Мратов\t15\n",
    "# 5\tASMR Psychetruth\t15\n",
    "# 6\thu-po\t15\n",
    "# 7\tAI Art Alchemy\t14\n",
    "# 8\tИгорь Happyboy\t13\n",
    "# 9\tDigitalFUTURES world\t10\n",
    "# 10\tCan Sungur ve Yakın Evren\t9\n",
    "# 11\tBNP Paribas Produits de Bourse\t8\n",
    "# 12\tPorQ?On A.I\t7\n",
    "# 13\tGalaxyKnight859\t7\n",
    "# 14\tefoxxfiles\t7\n",
    "# 15\tKseniaHarlequin\t7\n",
    "# 16\t🍃Nomad Softwork🍵\t7\n",
    "# 17\tUnicornis\t6\n",
    "# 18\tYaes Tubo\t6\n",
    "# 19\tハラセンちゃん寝る\t6\n",
    "# 20\tArch_AI_3D\t5\n",
    "# 21\tШпунтов Георгий\t5\n",
    "# 22\tТеплица социальных технологий\t5\n",
    "# 23\tPatricio Fernandez\t5\n",
    "# 24\tyuu-game Executive\t5\n",
    "# 25\tSteven Zapata Art\t5\n",
    "# 26\tAre We Still On Earth?\t5\n",
    "# 27\tRob Mulla\t5\n",
    "# 28\tSen Tv Officiel [DMEDIA]\t5\n",
    "# 29\tGuiVtuber\t4\n",
    "# 30\tJohn L\t4\n",
    "# 31\tGingerhouse\t4\n",
    "# 32\t【新人VTuber】椎半音ちゃんねる【開発系VTuber】\t4\n",
    "# 33\tChai Time Data Science\t4\n",
    "# 34\tDee Does A.I\t4\n",
    "# 35\tBYJU'S - Class 9 & 10\t4\n",
    "# 36\tCraft Computing\t4\n",
    "# 37\tM觀點\t4\n",
    "# 38\tOffice Hours Global\t3\n",
    "# 39\tAlicia Shadowbaker\t3\n",
    "# 40\tPAD : PC Watch & AKIBA PC Hotline! plus DVPR\t3\n",
    "# 41\tXavier Mitjana\t3\n",
    "# 42\tMundo Artificial\t3               1111111111111111   \n",
    "# 43\tMatt Dilworth\t3\n",
    "# 44\tDeepLearningAI\t3\n",
    "# 45\tガチャに愛された漢おじゃ\t3\n",
    "# 46\tDissolute Void\t3\n",
    "# 47\tGamer a la deriva\t3\n",
    "# 48\tメルア・クルー / Merua Crew\t3\n",
    "# 49\tGPT Time\t3\n",
    "# 50\tDavid Shapiro ~ AI\t3                   1111111111111111\n",
    "# 51\tStanford MLSys Seminars\t3\n",
    "# 52\tArtificial Intelligence Society\t3\n",
    "# 53\tAIgeneratingart\t3\n",
    "# 54\t機器狼／きかいろう\t3                       1111111111111111\n",
    "# 55\tLinn & Hunter\t3                1111111111111111\n",
    "# 56\tBill Meeks\t3                       1111111111111111\n",
    "# 57\tКароче какбы\t3\n",
    "# 58\tRusty Dog\t3\n",
    "# 59\tVhigh!\t3"
   ]
  },
  {
   "cell_type": "code",
   "execution_count": 7,
   "metadata": {},
   "outputs": [],
   "source": [
    "#                                      table_name\n",
    "# 0                             search_midjourney\n",
    "# 3             search_stable_diffusion_0101_0131\n",
    "# 4   stable_diffusion_relevance_en_230101_230810\n",
    "# 5             search_stable_diffusion_0501_0531\n",
    "# 6             search_stable_diffusion_0301_0331\n",
    "# 7                               search_leonardo\n",
    "# 8                       search_stable_diffusion\n",
    "# 10            search_stable_diffusion_0101_0810\n",
    "# 13               search_stable_diffusion_unique\n",
    "# 14                         search_automatic1111\n",
    "# 19                              search_template\n",
    "# 21            search_stable_diffusion_0701_0810\n",
    "# 22            search_stable_diffusion_0601_0630\n",
    "# 23            search_stable_diffusion_0401_0430\n",
    "# 24            search_stable_diffusion_0201_0228\n",
    "# 25                           search_youtube_api\n",
    "# 26                                search_dall_e\n",
    "# 30     automatic1111_relevance_en_230101_230810"
   ]
  },
  {
   "cell_type": "code",
   "execution_count": 14,
   "metadata": {},
   "outputs": [
    {
     "name": "stdout",
     "output_type": "stream",
     "text": [
      "     table_name\n",
      "0  job_listings\n",
      "1           run\n",
      "2          post\n"
     ]
    }
   ],
   "source": [
    "from postgresql_client import PostgresqlClient\n",
    "\n",
    "tb = \"ai\"\n",
    "db = \"job\"\n",
    "pg_client = PostgresqlClient(db = db, tb = tb, password=\"alex\")\n",
    "\n",
    "##########################################################################\n",
    "\n",
    "view_table = f\"SELECT * FROM {tb};\"\n",
    "num_records = f\"SELECT COUNT(*) FROM {tb};\"\n",
    "\n",
    "distinc_values = f\"SELECT DISTINCT channel_title FROM {tb};\"\n",
    "num_distinct_values = f\"SELECT COUNT(DISTINCT video_id) FROM {tb};\"\n",
    "num_occurences = f\"SELECT channel_title, COUNT(*) AS occurence FROM {tb} GROUP BY channel_title ORDER BY COUNT(*) DESC;\"\n",
    "sorted_by_time = f\"SELECT * FROM {tb} ORDER BY published_at DESC;\"\n",
    "num_records_in_range = f\"SELECT COUNT(*) FROM {tb} WHERE published_at BETWEEN '2023-06-01T00:00:00Z' AND '2023-06-30T00:00:00Z';\"\n",
    "has_string = f\"SELECT * FROM {tb} WHERE title ILIKE '%google%' OR title ILIKE '%colab%';\"\n",
    "of_channel = f\"SELECT * FROM {tb} WHERE channel_title ILIKE '%Olivio Sarikas%';\"\n",
    "of_language = f\"SELECT * FROM {tb} WHERE default_language ILIKE '%en%';\"\n",
    "# Olivio Sarikas\n",
    "delete_duplicate = f\"DELETE FROM {tb} a USING {tb} b WHERE a.ctid < b.ctid AND a.video_id = b.video_id;\"\n",
    "\n",
    "\n",
    "# tutorial key words for stable diffusion: tutorial, install, run, how to, guide, beginner, advanced, basic, basics, introduction, learn, course, demo, step by step, tips, tricks, best practices, fundamentals\n",
    "# key words for title that indicate comparision: vs, comparison\n",
    "# channel: SECourses\n",
    "# SD\n",
    "\n",
    "# cmd_check_col = f\"SELECT EXISTS ( SELECT 1 FROM information_schema.columns WHERE table_name = '{self.pg_client.tb}' AND column_name = '{new_column_name}');\"\n",
    "# df = self.pg_client.query(cmd_check_col)\n",
    "# print(self.pg_client.tb)\n",
    "# print(new_column_name)\n",
    "# print(self.pg_client.db)\n",
    "# col_exist = df.iat[0,0]\n",
    "# print(col_exist)\n",
    "\n",
    "# df = pg_client.query(\"SELECT * FROM run\")\n",
    "\n",
    "# pg_client.delete_tb(\"post\")\n",
    "pg_client.list_tb()\n",
    "\n",
    "# df.head(60)\n",
    "\n",
    "# print(df.iat[0,-1])\n",
    "# df.to_excel('Automatic1111_tutorial.xlsx', index=False)\n",
    "\n",
    "# <> '{{}}'"
   ]
  },
  {
   "cell_type": "code",
   "execution_count": 8,
   "metadata": {},
   "outputs": [
    {
     "name": "stdout",
     "output_type": "stream",
     "text": [
      "Connected to PostgreSQL!\n"
     ]
    }
   ],
   "source": [
    "import psycopg2\n",
    "\n",
    "try:\n",
    "    connection = psycopg2.connect(\n",
    "        user=\"admin\",\n",
    "        password=\"Alex\",\n",
    "        host=\"34.151.94.215\",\n",
    "        database=\"parsehub\"\n",
    "    )\n",
    "    cursor = connection.cursor()\n",
    "    print(\"Connected to PostgreSQL!\")\n",
    "    cursor.close()\n",
    "    connection.close()\n",
    "except psycopg2.Error as error:\n",
    "    print(\"Error while connecting to PostgreSQL:\", error)\n"
   ]
  },
  {
   "cell_type": "code",
   "execution_count": 14,
   "metadata": {},
   "outputs": [
    {
     "name": "stdout",
     "output_type": "stream",
     "text": [
      "<class 'dict'>\n",
      "{'q': \"Which of the following statements best describes your right to work in Australia?||How many years' experience do you have as a technical business analyst?||What's your expected annual base salary?\"}\n"
     ]
    }
   ],
   "source": [
    "def get_run_data(api_key, run_token, data_format='json'):\n",
    "    url = f'https://www.parsehub.com/api/v2/runs/{run_token}/data' # url\n",
    "    params = {\"api_key\": api_key, \"format\": data_format} # params\n",
    "    \n",
    "    try:\n",
    "        response = requests.get(url, params=params)\n",
    "        if response.ok:\n",
    "            return response.json()\n",
    "        print(f\"Error: {response.status_code} - {response.text}\")\n",
    "        return None\n",
    "    except requests.RequestException as e:\n",
    "        print(f\"Request Exception: {e}\")\n",
    "        return None\n",
    "\n",
    "api_key = \"tobsMf-25k1y\"\n",
    "run_token = \"to1M4orPvh2V\"\n",
    "r = get_run_data(api_key=api_key, run_token=run_token)\n",
    "print(type(r))\n",
    "print(r)"
   ]
  },
  {
   "cell_type": "code",
   "execution_count": 21,
   "metadata": {},
   "outputs": [
    {
     "name": "stdout",
     "output_type": "stream",
     "text": [
      "['question1', 'question2', 'question3']\n"
     ]
    }
   ],
   "source": [
    "print(\"question1||question2||question3\".split(\"||\"))"
   ]
  },
  {
   "cell_type": "code",
   "execution_count": 25,
   "metadata": {},
   "outputs": [
    {
     "name": "stdout",
     "output_type": "stream",
     "text": [
      "2644\n"
     ]
    }
   ],
   "source": [
    "\n",
    "import pandas as pd\n",
    "# Concatenating along rows (vertical stacking)\n",
    "concatenated_df = pd.concat([df1, df2, df3, df4, df5, df6], ignore_index=True)\n",
    "\n",
    "print(len(concatenated_df))\n"
   ]
  },
  {
   "cell_type": "code",
   "execution_count": 26,
   "metadata": {},
   "outputs": [
    {
     "name": "stdout",
     "output_type": "stream",
     "text": [
      "Number of unique rows: 2644\n"
     ]
    }
   ],
   "source": [
    "# Count the number of unique rows\n",
    "unique_rows = concatenated_df.drop_duplicates()\n",
    "count_unique_rows = len(unique_rows)\n",
    "\n",
    "print(\"Number of unique rows:\", count_unique_rows)"
   ]
  },
  {
   "cell_type": "code",
   "execution_count": 22,
   "metadata": {},
   "outputs": [
    {
     "name": "stdout",
     "output_type": "stream",
     "text": [
      "how to Install SDXL 0.9, Run Locally with ComfyUI and what is new?\n",
      "Stable Diffusion WebUI Colab Install To Google Drive\n",
      "NOT WORKING :( -Step-by-Step Guide: Install ComfyUI, Plugins (Controlnet), &amp; Models | Beginner\n"
     ]
    }
   ],
   "source": [
    "for record in df.itertuples():\n",
    "    print(record[2])\n",
    "# df.iat[1,1]"
   ]
  },
  {
   "cell_type": "code",
   "execution_count": 11,
   "metadata": {},
   "outputs": [
    {
     "name": "stdout",
     "output_type": "stream",
     "text": [
      "                                     table_name\n",
      "0                             search_midjourney\n",
      "3             search_stable_diffusion_0101_0131\n",
      "4                                         ai_md\n",
      "6   stable_diffusion_relevance_en_230101_230810\n",
      "7             search_stable_diffusion_0501_0531\n",
      "8             search_stable_diffusion_0301_0331\n",
      "9                               search_leonardo\n",
      "10                      search_stable_diffusion\n",
      "12            search_stable_diffusion_0101_0810\n",
      "15               search_stable_diffusion_unique\n",
      "16                         search_automatic1111\n",
      "21                              search_template\n",
      "23            search_stable_diffusion_0701_0810\n",
      "24            search_stable_diffusion_0601_0630\n",
      "25            search_stable_diffusion_0401_0430\n",
      "26            search_stable_diffusion_0201_0228\n",
      "27                  stable_diffusion_test_1_day\n",
      "28                           search_youtube_api\n",
      "29                                search_dall_e\n",
      "33     automatic1111_relevance_en_230101_230810\n",
      "36                                           ai\n"
     ]
    }
   ],
   "source": [
    "from postgresql_client import PostgresqlClient\n",
    "tb = \"search_automatic1111\"\n",
    "db = \"youtube\"\n",
    "pg_client = PostgresqlClient(db = db, tb = tb, password=\"alex\")\n",
    "\n",
    "##########################################################################\n",
    "# pg_client.delete_tb(tb=\"automatic1111_relevance_en_200_201_backup\")\n",
    "pg_client.list_tb(show_backup=False)\n",
    "\n",
    "# sql command to change the name of a table\n",
    "# rename_table = f\"ALTER TABLE {tb} RENAME TO search_stable_diffusion_unique;\"\n",
    "\n",
    "# pg_client.query(delete_duplicate, ret=False)"
   ]
  },
  {
   "cell_type": "code",
   "execution_count": 5,
   "metadata": {},
   "outputs": [
    {
     "name": "stdout",
     "output_type": "stream",
     "text": [
      "40\n",
      "automatic1111_relevance_en_230101_230810\n"
     ]
    }
   ],
   "source": [
    "# quy trình search youtube tự động:\n",
    "# 1. Xác định chủ đề cần search\n",
    "# 2. Xác định các từ khóa liên quan đến chủ đề"
   ]
  }
 ],
 "metadata": {
  "kernelspec": {
   "display_name": "personal",
   "language": "python",
   "name": "python3"
  },
  "language_info": {
   "codemirror_mode": {
    "name": "ipython",
    "version": 3
   },
   "file_extension": ".py",
   "mimetype": "text/x-python",
   "name": "python",
   "nbconvert_exporter": "python",
   "pygments_lexer": "ipython3",
   "version": "3.11.4"
  },
  "orig_nbformat": 4
 },
 "nbformat": 4,
 "nbformat_minor": 2
}
